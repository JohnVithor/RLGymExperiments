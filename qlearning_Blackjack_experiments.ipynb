{
 "cells": [
  {
   "cell_type": "code",
   "execution_count": null,
   "metadata": {},
   "outputs": [],
   "source": [
    "import gymnasium as gym\n",
    "from src.QLearning import QLearningAgent\n",
    "import numpy as np\n",
    "from tqdm import tqdm\n",
    "from src.Helpers import store_data"
   ]
  },
  {
   "cell_type": "code",
   "execution_count": null,
   "metadata": {},
   "outputs": [],
   "source": [
    "learning_rates = [0.1, 0.05, 0.01]\n",
    "n_episodes = [10_000, 100_000, 1_000_000]\n",
    "start_epsilons = [1.0, 0.5, 0.25]\n",
    "final_epsilons = [0.25, 0.1, 0.0]"
   ]
  },
  {
   "cell_type": "code",
   "execution_count": null,
   "metadata": {},
   "outputs": [],
   "source": [
    "confs = np.array(np.meshgrid(learning_rates, n_episodes, start_epsilons, final_epsilons)).T.reshape(-1,4)\n",
    "n_confs = len(confs)\n",
    "for i, p in enumerate(confs):\n",
    "    env: gym.Env = gym.make('Blackjack-v1', render_mode=\"rgb_array\", natural=False, sab=False)\n",
    "    env = gym.wrappers.RecordEpisodeStatistics(env, deque_size=int(p[1]))\n",
    "\n",
    "    agent = QLearningAgent(\n",
    "        action_space=env.action_space,\n",
    "        learning_rate=p[0],\n",
    "        initial_epsilon=p[2],\n",
    "        epsilon_decay=p[2] / (p[1] / 2),\n",
    "        final_epsilon=p[3],\n",
    "    )\n",
    "\n",
    "    params= {\n",
    "        'n_episodes': p[1],\n",
    "        'learning_rate': p[0],\n",
    "        'initial_epsilon': p[2],\n",
    "        'epsilon_decay': p[2] / (p[1] / 2),\n",
    "        'final_epsilon': p[3],\n",
    "    }\n",
    "    print('Configuration', i, 'of', n_confs)\n",
    "    print('params:', params)\n",
    "\n",
    "    for episode in tqdm(range(int(p[1]))):\n",
    "        curr_observation, info = env.reset()\n",
    "        curr_action: int = agent.get_action(curr_observation)\n",
    "        # play one episode\n",
    "        while True:\n",
    "            # act upon the enviromment\n",
    "            next_observation, reward, terminated, truncated, info = env.step(curr_action)\n",
    "            is_terminal: bool = terminated or truncated\n",
    "            # select next action\n",
    "            next_action: int = agent.get_action(next_observation)\n",
    "            # update the agent\n",
    "            agent.update(curr_observation, curr_action, reward, terminated, next_observation, next_action)\n",
    "            # update the current observation and action\n",
    "            curr_observation = next_observation\n",
    "            curr_action = next_action\n",
    "            # end the episode\n",
    "            if (is_terminal):\n",
    "                break\n",
    "        # reduce exploration factor\n",
    "        agent.decay_epsilon()\n",
    "    \n",
    "    store_data(f'blackjack_qlearning_{i}', agent, env, params)"
   ]
  }
 ],
 "metadata": {
  "kernelspec": {
   "display_name": "venv",
   "language": "python",
   "name": "python3"
  },
  "language_info": {
   "codemirror_mode": {
    "name": "ipython",
    "version": 3
   },
   "file_extension": ".py",
   "mimetype": "text/x-python",
   "name": "python",
   "nbconvert_exporter": "python",
   "pygments_lexer": "ipython3",
   "version": "3.11.2"
  },
  "orig_nbformat": 4
 },
 "nbformat": 4,
 "nbformat_minor": 2
}
